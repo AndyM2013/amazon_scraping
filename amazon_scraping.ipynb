{
  "nbformat": 4,
  "nbformat_minor": 0,
  "metadata": {
    "colab": {
      "name": "amazon_scraping.ipynb",
      "provenance": [],
      "collapsed_sections": [],
      "mount_file_id": "1aOsQAlkBAQYFzyJM8w8t4MbVPA6VXS5I",
      "authorship_tag": "ABX9TyPc+QrPwHztl6Q9t+hVWfFt",
      "include_colab_link": true
    },
    "kernelspec": {
      "name": "python3",
      "display_name": "Python 3"
    },
    "language_info": {
      "name": "python"
    }
  },
  "cells": [
    {
      "cell_type": "markdown",
      "metadata": {
        "id": "view-in-github",
        "colab_type": "text"
      },
      "source": [
        "<a href=\"https://colab.research.google.com/github/AndyM2013/amazon_scraping/blob/main/amazon_scraping.ipynb\" target=\"_parent\"><img src=\"https://colab.research.google.com/assets/colab-badge.svg\" alt=\"Open In Colab\"/></a>"
      ]
    },
    {
      "cell_type": "markdown",
      "metadata": {
        "id": "eapo6prR3i5_"
      },
      "source": [
        "This side project is aiming to help retailers to scrape product data from Amazon by using Rainforest API https://www.rainforestapi.com/ Rainforest API provides free account registration with 100 API call credits. \n",
        "\n",
        "Imagine you have a product sheet from a distributor or a manufacturer and you would like to use the UPC numbers to search how the products sell on Amazon. The data you need including asin number, rating, totals rating, customer reviews, and best sellers rank.\n",
        "\n",
        "The following code represents how to use Rainforest API to retrieve product data from Amazon. "
      ]
    },
    {
      "cell_type": "code",
      "metadata": {
        "id": "MFxn8fmDHPbU"
      },
      "source": [
        "import pandas as pd\n",
        "import numpy as np\n",
        "import requests\n",
        "import json"
      ],
      "execution_count": null,
      "outputs": []
    },
    {
      "cell_type": "code",
      "metadata": {
        "id": "RP-ReyG1NVgA"
      },
      "source": [
        "# construct file path\n",
        "# file_name_list = ['file_1_name', 'file_2_name', 'file_3_name']\n",
        "# prefix = '.xlsx' or '.csv'\n",
        "# the constructed file path is under Google Colab default location\n",
        "# for example, /content/file_1_name.csv\n",
        "# modify the file path based on your own need like \n",
        "# change it to your Google Drive\n",
        "# for example, /content/drive/MyDrive/file_1_name.csv\n",
        "\n",
        "def filePathBuilder(file_name_list, prefix):\n",
        "  file_path_list = []\n",
        "  for file_name in file_name_list:\n",
        "    file_path = \"/content/\" + file_name + prefix\n",
        "    file_path_list.append(file_path)\n",
        "  return file_path_list"
      ],
      "execution_count": null,
      "outputs": []
    },
    {
      "cell_type": "code",
      "metadata": {
        "id": "WLMWyXclMgCH"
      },
      "source": [
        "# In my sample data sheet, the UPC number column was named \n",
        "# \"UPC #\" or \"UPC\", so I updated it to \"upc\"\n",
        "\n",
        "# the product sheet might contain a varitey of columns, but \n",
        "# we only need upc in our case\n",
        "\n",
        "# Rainforest API also support search by URL, ASIN, GTIN, EAN\n",
        "\n",
        "def prepareDataframe(file_path):\n",
        "    df = pd.read_excel(file_path)\n",
        "    if \"UPC #\" in df.columns:\n",
        "      df = df[['UPC #']]\n",
        "    elif \"UPC\" in df.columns:\n",
        "      df = df[['UPC']]\n",
        "    df.columns = ['upc']\n",
        "    # drop rows contain empty upc value\n",
        "    df.dropna(inplace=True)\n",
        "    indexNames = df[ (df['upc'] == 'nan') & (df['upc'] == 0.0) ].index\n",
        "    df.drop(indexNames , inplace=True)\n",
        "    df['upc'] = df['upc'].astype(int) # convert upc column to integer\n",
        "    return df"
      ],
      "execution_count": null,
      "outputs": []
    },
    {
      "cell_type": "code",
      "metadata": {
        "id": "UFUgkKgzMdwT"
      },
      "source": [
        "# prepare file path list for our source files\n",
        "\n",
        "file_name_list = [\"file_1_name\",\n",
        "                  \"file_2_name\",\n",
        "                  \"file_3_name\"]\n",
        "file_path_list = filePathBuilder(file_name_list, \".xlsx\")"
      ],
      "execution_count": null,
      "outputs": []
    },
    {
      "cell_type": "code",
      "metadata": {
        "id": "O2AwA5kM9edQ"
      },
      "source": [
        "# prepare file path list which will be used to save our data\n",
        "\n",
        "final_file_path_list = filePathBuilder(file_name_list, \".csv\")"
      ],
      "execution_count": null,
      "outputs": []
    },
    {
      "cell_type": "code",
      "metadata": {
        "id": "wNgxIAdqjA8v"
      },
      "source": [
        "# loop the file path list and process each file\n",
        "\n",
        "for i in range(len(file_path_list)):\n",
        "  print(f\"<-------Start scraping {file_path_list[i]}--------->\")\n",
        "  df = prepareDataframe(file_path_list[i]) # dataframe preparation \n",
        "  final_data = {} # to store all the scraped data as a dictionary\n",
        "\n",
        "  # iterate dataframe row by row\n",
        "  for row in df.itertuples(index = True, name ='Pandas'):\n",
        "    upc = str(row.upc) # convert upc from integer to string\n",
        "    params = {\n",
        "      # this api_key doesn't work, replace it with YOUR OWN KEY\n",
        "      'api_key': '8FFB0ACB661848A5B9A8ATRCE1C827AA1B2', \n",
        "      'type': 'product',\n",
        "      # change domain if you want search market in other region\n",
        "      # for instance, amazon.com, amazon.co.uk\n",
        "      'amazon_domain': 'amazon.ca', \n",
        "      'gtin': upc\n",
        "    }\n",
        "\n",
        "    # call the API and get respone result\n",
        "    # result data type is json\n",
        "    api_result = requests.get('https://api.rainforestapi.com/request', params)\n",
        "    data = api_result.json()\n",
        "\n",
        "    # find the data we want from the respone result\n",
        "    print(f\"Get API respone for UPC number -----> {upc}\")\n",
        "\n",
        "    # response result with success is True means the API find the product \n",
        "    # from the selected Amazon domain \n",
        "    if data.get(\"request_info\").get(\"success\"):\n",
        "      print(\"api success\")\n",
        "\n",
        "      # access the asin, rating and ratings_total\n",
        "      asin = data.get(\"product\").get(\"asin\")\n",
        "      rating = data.get(\"product\").get(\"rating\")\n",
        "      ratings_total = data.get(\"product\").get(\"ratings_total\")\n",
        "      print(f\"asin: {asin}; upc: {upc}; rating: {rating}; ratings_total: {ratings_total}\")\n",
        "\n",
        "      # check if the response result includes the specifications section \n",
        "      # which might contains Customer reviews and Best sellers rank data\n",
        "\n",
        "      # if cannot find the customer reviews and best sellers rank data, then\n",
        "      # assign None to the two variables\n",
        "      if data.get(\"product\").get(\"specifications\") != None:\n",
        "        print(\"find specification section\")\n",
        "        for i in data.get(\"product\").get(\"specifications\"):\n",
        "          if i.get(\"name\") == \"Customer Reviews\":\n",
        "            print(i[\"value\"])\n",
        "            customer_reviews = i[\"value\"]\n",
        "          elif i.get(\"name\") == \"Best Sellers Rank\":\n",
        "            print(i['value'])\n",
        "            best_sellers_rank = i['value']\n",
        "          else:\n",
        "            customer_reviews = None\n",
        "            best_sellers_rank = None\n",
        "            print(\"not find Customer reviews and best sellers rank in specifications\")\n",
        "\n",
        "      # best sellers rank might also exist under the bestsellers_rank section\n",
        "      # check if the bestsellers_rank section exist, then looking for \n",
        "      # the product category and rank. \n",
        "      if data.get(\"product\").get(\"bestsellers_rank\") != None:\n",
        "        print(\"find best sellers rank section\")\n",
        "        ranks = data.get(\"product\").get(\"bestsellers_rank\")\n",
        "        rank_category = ranks[0].get(\"category\")\n",
        "        rank = ranks[0].get(\"rank\")\n",
        "        print(f\"rank category: {rank_category}; rank: {rank}\")\n",
        "      else:\n",
        "        rank_category = None\n",
        "        rank = None\n",
        "        print(\"not find bestsellers_rank\")\n",
        "\n",
        "      # save our data to a dictionary with key is the upc number \n",
        "      # and all the values are saved to a list\n",
        "      final_data[upc] = [asin, upc, rating, ratings_total, customer_reviews, best_sellers_rank, rank_category, rank]\n",
        "    else:\n",
        "      print(f\"api failed at upc {upc}\")\n",
        "    \n",
        "  # convert our organized data to a dataframe and save it to a csv file\n",
        "  results_df = pd.DataFrame.from_dict(final_data, orient='index',\n",
        "                                      columns=['asin', 'upc', 'rating', 'ratings_total', \n",
        "                                              'Customer reviews', 'best sellers rank',\n",
        "                                              'bestsellers_rank_category', 'bestsellers_ranks'])\n",
        "\n",
        "  results_df.to_csv(final_file_path_list[i], index=False)\n",
        "  print(\"<-----------csv file saved!---------------->\")\n",
        "print(\"<-----------All done!---------------->\")"
      ],
      "execution_count": null,
      "outputs": []
    },
    {
      "cell_type": "code",
      "metadata": {
        "id": "ZooFavWdYFZc"
      },
      "source": [
        ""
      ],
      "execution_count": null,
      "outputs": []
    }
  ]
}